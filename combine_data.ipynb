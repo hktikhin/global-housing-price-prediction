{
 "cells": [
  {
   "cell_type": "markdown",
   "metadata": {},
   "source": [
    "#### Purpose:\n",
    "This code is to \n",
    "- Read all the data from OECD/ world bank\n",
    "- Transform all the data from wide form to long form, which can fit into machine learning model \n",
    "- Combine all the data together using left join \n",
    "- Rename all the data and return it as csv file"
   ]
  },
  {
   "cell_type": "code",
   "execution_count": 2,
   "metadata": {},
   "outputs": [],
   "source": [
    "import pandas as pd "
   ]
  },
  {
   "cell_type": "markdown",
   "metadata": {},
   "source": [
    "#### Data Description\n",
    "\n",
    "| File      | Description |\n",
    "| ----------- | ----------- |\n",
    "| all_housing_price | house prices data(including real/ norminal price index, rent to price ratio, income to price ratio) of different country in different year, from OECD |\n",
    "| broad_money | Broad money (% of GDP) - money supply of an economy and it consists of money in any form, including bank or other deposits, from World Bank |\n",
    "| employment_service | # of employment from different country, from OECD  |\n",
    "| exchange_rate | Exchange rates index measured in terms of national currency per US dollar, from OECD  |\n",
    "| gdp_per_capital | GDP measured by US dollars per capita, from OECD  |\n",
    "| gpd_growth | GDP growth rate comparing to previous year, from OECD |\n",
    "| inflation | Inflation measured by consumer price index (CPI), from OECD |\n",
    "| long_interest_rate | Long-term interest rates refer to government bonds maturing in ten years, from OECD |\n",
    "| ppp | a proxy real exchange rate, accounting for the purchasing power of different currencies, from OECD |\n",
    "| share_price | Share price indices are calculated from the prices of common shares of companies traded on national or foreign stock exchange, from OECD |\n",
    "| short_interest_rate | measured as a percentage and based on three-month money market rates, from OECD |\n",
    "| urban_percent | Urban population (% of total population), from world bank |\n",
    "| working_age_popu | working age population (% of total population), from OECD |"
   ]
  },
  {
   "cell_type": "code",
   "execution_count": 3,
   "metadata": {},
   "outputs": [],
   "source": [
    "# read all the data \n",
    "all_housing_price = pd.read_csv(r\"data\\all_housing_price_1970_to_2022.csv\")\n",
    "broad_money = pd.read_csv(r\"data\\broad_money_1970_to_2022.csv\")\n",
    "employment_service = pd.read_csv(r\"data\\employment_service_1970_to_2022.csv\")\n",
    "exchange_rate = pd.read_csv(r\"data\\exchange_rate_1970_to_2021.csv\")\n",
    "gdp_per_capital = pd.read_csv(r\"data\\gdp_per_capital_1970_to_2022.csv\")\n",
    "gpd_growth = pd.read_csv(r\"data\\gpd_growth_1970_to_2022.csv\")\n",
    "inflation = pd.read_csv(r\"data\\inflation_1970_to_2022.csv\")\n",
    "long_interest_rate = pd.read_csv(r\"data\\long_interest_rate_1970_to_2022.csv\")\n",
    "ppp = pd.read_csv(r\"data\\ppp_1970_to_2021.csv\")\n",
    "share_price = pd.read_csv(r\"data\\share_price_1970_to_2022.csv\")\n",
    "short_interest_rate = pd.read_csv(r\"data\\short_interest_rate_1970_to_2022.csv\")\n",
    "urban_percent = pd.read_csv(r\"data\\urban_percent_1960_to_2022.csv\")\n",
    "working_age_popu = pd.read_csv(r\"data\\working_age_popu_1970_to_2022.csv\")\n",
    "# Add your data here \n"
   ]
  },
  {
   "cell_type": "code",
   "execution_count": 4,
   "metadata": {},
   "outputs": [],
   "source": [
    "data = {\n",
    "    'all_housing_price': all_housing_price,\n",
    "    'broad_money': broad_money,\n",
    "    'employment_service': employment_service,\n",
    "    'exchange_rate': exchange_rate,\n",
    "    'gdp_per_capital': gdp_per_capital,\n",
    "    'gpd_growth': gpd_growth,\n",
    "    'inflation': inflation,\n",
    "    'long_interest_rate': long_interest_rate,\n",
    "    'ppp': ppp,\n",
    "    'share_price': share_price,\n",
    "    'short_interest_rate': short_interest_rate,\n",
    "    'urban_percent': urban_percent,\n",
    "    'working_age_popu': working_age_popu\n",
    "    # Add your data here \n",
    "}"
   ]
  },
  {
   "cell_type": "code",
   "execution_count": 5,
   "metadata": {},
   "outputs": [],
   "source": [
    "from_OECD = ['all_housing_price',\n",
    "    'employment_service', \n",
    "    'exchange_rate', \n",
    "    'gpd_growth',\n",
    "    'gdp_per_capital',\n",
    "    'inflation',\n",
    "    'long_interest_rate',\n",
    "    'ppp',\n",
    "    'share_price',\n",
    "    'short_interest_rate',\n",
    "    'working_age_popu'\n",
    "    # Add your data here \n",
    "]\n",
    "\n",
    "from_world_bank = ['broad_money', 'urban_percent']# Add your data here "
   ]
  },
  {
   "cell_type": "code",
   "execution_count": 6,
   "metadata": {},
   "outputs": [],
   "source": [
    "# Transform data into long form \n",
    "for key in from_OECD:\n",
    "    data[key] = data[key].pivot(\n",
    "        index=[\"LOCATION\", \"TIME\"],\n",
    "        columns=[\"SUBJECT\"],\n",
    "        values=\"Value\"\n",
    "    ).reset_index()"
   ]
  },
  {
   "cell_type": "code",
   "execution_count": 7,
   "metadata": {},
   "outputs": [],
   "source": [
    "# Transform data into long form \n",
    "for key in from_world_bank:\n",
    "    data[key] = data[key].melt(\n",
    "        id_vars = [\"Country Code\"],\n",
    "        value_vars = data[key].columns[4:-1],\n",
    "        var_name = \"TIME\",\n",
    "        value_name =  \"Value\"\n",
    "    )\n",
    "    data[key].TIME = data[key].TIME.astype(int)"
   ]
  },
  {
   "cell_type": "code",
   "execution_count": 8,
   "metadata": {},
   "outputs": [],
   "source": [
    "# To combine all the data together using LOCATION/ TIME/ QUARTER as foreign key\n",
    "for name in from_OECD:\n",
    "    # If TIME columns have quarter info \n",
    "    if data[name].TIME.dtype == \"O\" :\n",
    "        tmp_df = data[name].TIME.str.split(\"-\", expand = True)\n",
    "        data[name][\"YEAR\"] = tmp_df[0].astype(int)\n",
    "        data[name][\"QUARTER\"] = tmp_df[1]\n"
   ]
  },
  {
   "cell_type": "code",
   "execution_count": 9,
   "metadata": {},
   "outputs": [],
   "source": [
    "result_df = data[\"all_housing_price\"]\n",
    "for name in from_OECD[1:]:\n",
    "    if data[name].TIME.dtype == \"O\" :\n",
    "        # left join \n",
    "        result_df = result_df.merge(\n",
    "            data[name], \n",
    "            how = \"left\",\n",
    "            on = [\"LOCATION\", \"YEAR\", \"QUARTER\"],\n",
    "            suffixes= (None, f'_{name}')\n",
    "        )\n",
    "    else:\n",
    "        result_df = result_df.merge(\n",
    "            data[name], \n",
    "            how = \"left\",\n",
    "            left_on= [\"LOCATION\", \"YEAR\"],\n",
    "            right_on = [\"LOCATION\", \"TIME\"],\n",
    "            suffixes= (None, f'_{name}')\n",
    "        )\n",
    "\n",
    "for name in from_world_bank:\n",
    "        result_df = result_df.merge(\n",
    "            data[name], \n",
    "            how = \"left\",\n",
    "            left_on= [\"LOCATION\", \"YEAR\"],\n",
    "            right_on = [\"Country Code\", \"TIME\"],\n",
    "            suffixes= (None, f'_{name}')\n",
    "        )\n"
   ]
  },
  {
   "cell_type": "code",
   "execution_count": 10,
   "metadata": {},
   "outputs": [
    {
     "data": {
      "text/plain": [
       "Index(['LOCATION', 'TIME', 'NOMINAL', 'PRICEINCOME', 'PRICERENT', 'REAL',\n",
       "       'RENT', 'YEAR', 'QUARTER', 'TIME_employment_service', 'SERV',\n",
       "       'TIME_exchange_rate', 'TOT', 'TIME_gpd_growth', 'TOT_gpd_growth',\n",
       "       'TIME_gdp_per_capital', 'TOT_gdp_per_capital', 'TIME_inflation',\n",
       "       'TOT_inflation', 'TIME_long_interest_rate', 'TOT_long_interest_rate',\n",
       "       'TIME_ppp', 'TOT_ppp', 'TIME_share_price', 'TOT_share_price',\n",
       "       'TIME_short_interest_rate', 'TOT_short_interest_rate',\n",
       "       'TIME_working_age_popu', 'TOT_working_age_popu', 'Country Code',\n",
       "       'TIME_broad_money', 'Value', 'Country Code_urban_percent',\n",
       "       'TIME_urban_percent', 'Value_urban_percent'],\n",
       "      dtype='object')"
      ]
     },
     "execution_count": 10,
     "metadata": {},
     "output_type": "execute_result"
    }
   ],
   "source": [
    "result_df.columns"
   ]
  },
  {
   "cell_type": "code",
   "execution_count": 11,
   "metadata": {},
   "outputs": [],
   "source": [
    "# Select only useful columns and build another df \n",
    "Output = pd.DataFrame()\n",
    "Output[\"location\"] = result_df.LOCATION\n",
    "Output[\"year\"] = result_df.YEAR\n",
    "Output[\"quarter\"] = result_df.QUARTER\n",
    "Output[\"nominal_price\"] = result_df.NOMINAL\n",
    "Output[\"price_to_income\"] = result_df.PRICEINCOME\n",
    "Output[\"price_to_rent\"] = result_df.PRICERENT\n",
    "Output[\"rent\"] = result_df.RENT\n",
    "Output[\"employment_in_service\"] = result_df.SERV\n",
    "Output[\"exchange_rate\"] = result_df.TOT\n",
    "Output[\"gpd_growth_rate\"] = result_df.TOT_gpd_growth\n",
    "Output[\"gdp_per_capital\"] = result_df.TOT_gdp_per_capital\n",
    "Output[\"inflation\"] = result_df.TOT_inflation\n",
    "Output[\"short_interest_rate\"] = result_df.TOT_short_interest_rate\n",
    "Output[\"long_interest_rate\"] = result_df.TOT_long_interest_rate\n",
    "Output[\"ppp\"] = result_df.TOT_ppp\n",
    "Output[\"share_price\"] = result_df.TOT_share_price\n",
    "Output[\"working_age_popu\"] = result_df.TOT_working_age_popu\n",
    "Output[\"broad_money\"] = result_df.Value\n",
    "Output[\"urban_percent\"] = result_df.Value_urban_percent\n",
    "Output[\"real_price\"] = result_df.REAL\n",
    "# Add your data here \n"
   ]
  },
  {
   "cell_type": "code",
   "execution_count": 12,
   "metadata": {},
   "outputs": [],
   "source": [
    "Output.to_csv(\"integrated_housing_data.csv\", index= False)"
   ]
  }
 ],
 "metadata": {
  "interpreter": {
   "hash": "77f27ff809690040829f10a8e7da553c213ef22500607dca8cb183fc1fe07cef"
  },
  "kernelspec": {
   "display_name": "Python 3.8.11 ('optimize')",
   "language": "python",
   "name": "python3"
  },
  "language_info": {
   "codemirror_mode": {
    "name": "ipython",
    "version": 3
   },
   "file_extension": ".py",
   "mimetype": "text/x-python",
   "name": "python",
   "nbconvert_exporter": "python",
   "pygments_lexer": "ipython3",
   "version": "3.8.11"
  },
  "orig_nbformat": 4
 },
 "nbformat": 4,
 "nbformat_minor": 2
}
